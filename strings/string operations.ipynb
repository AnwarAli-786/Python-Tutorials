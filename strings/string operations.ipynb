{
 "cells": [
  {
   "cell_type": "code",
   "execution_count": 1,
   "id": "0fba960f",
   "metadata": {},
   "outputs": [
    {
     "name": "stdout",
     "output_type": "stream",
     "text": [
      "Hello Programmers\n"
     ]
    }
   ],
   "source": [
    "a = 'Hello Programmers'\n",
    "print(a)"
   ]
  },
  {
   "cell_type": "code",
   "execution_count": 2,
   "id": "3e476d95",
   "metadata": {},
   "outputs": [
    {
     "name": "stdout",
     "output_type": "stream",
     "text": [
      "Hello programmers\n"
     ]
    }
   ],
   "source": [
    "b = \"Hello programmers\"\n",
    "print(b)"
   ]
  },
  {
   "cell_type": "code",
   "execution_count": 5,
   "id": "76235857",
   "metadata": {},
   "outputs": [
    {
     "name": "stdout",
     "output_type": "stream",
     "text": [
      "Hello Programmers, \n",
      "How Are You, \n",
      "What are you doing\n"
     ]
    }
   ],
   "source": [
    "c = \"\"\"Hello Programmers, \n",
    "How Are You, \n",
    "What are you doing\"\"\"\n",
    "print(c)"
   ]
  },
  {
   "cell_type": "code",
   "execution_count": 6,
   "id": "9079d63e",
   "metadata": {},
   "outputs": [
    {
     "name": "stdout",
     "output_type": "stream",
     "text": [
      "Hello World\n"
     ]
    }
   ],
   "source": [
    "d = \"hello world\"\n",
    "print(d.title())"
   ]
  },
  {
   "cell_type": "code",
   "execution_count": 10,
   "id": "77c21a6e",
   "metadata": {},
   "outputs": [
    {
     "name": "stdout",
     "output_type": "stream",
     "text": [
      "hello world\n"
     ]
    }
   ],
   "source": [
    "e = \"Hello World\"\n",
    "print(e.lower())"
   ]
  },
  {
   "cell_type": "code",
   "execution_count": 13,
   "id": "976efe38",
   "metadata": {},
   "outputs": [
    {
     "name": "stdout",
     "output_type": "stream",
     "text": [
      "Hello! Mr Bean How are you\n"
     ]
    }
   ],
   "source": [
    "#string combination\n",
    "a = \"Hello\"\n",
    "b = \"Mr Bean\"\n",
    "c = \"How are you\"\n",
    "d = a + \"! \" + b + \" \" + c\n",
    "print(d)"
   ]
  },
  {
   "cell_type": "code",
   "execution_count": 14,
   "id": "db9471ac",
   "metadata": {},
   "outputs": [
    {
     "name": "stdout",
     "output_type": "stream",
     "text": [
      "Hello Mr Bean How are you\n"
     ]
    }
   ],
   "source": [
    "print(a + \" \" + b + \" \"+ c)"
   ]
  },
  {
   "cell_type": "code",
   "execution_count": 16,
   "id": "96439601",
   "metadata": {},
   "outputs": [
    {
     "name": "stdout",
     "output_type": "stream",
     "text": [
      "Enter Your Name :Mr Bean\n",
      "Mr Bean, How are you\n"
     ]
    }
   ],
   "source": [
    "a = input(\"Enter Your Name :\")\n",
    "print(a + \", How are you\")"
   ]
  },
  {
   "cell_type": "code",
   "execution_count": 21,
   "id": "50890b51",
   "metadata": {},
   "outputs": [
    {
     "name": "stdout",
     "output_type": "stream",
     "text": [
      "ello\n"
     ]
    }
   ],
   "source": [
    "# striing slicing\n",
    "a = \"Hello\"\n",
    "print(a[1:5])"
   ]
  },
  {
   "cell_type": "code",
   "execution_count": null,
   "id": "bb1beed3",
   "metadata": {},
   "outputs": [],
   "source": []
  },
  {
   "cell_type": "code",
   "execution_count": null,
   "id": "e9e5c802",
   "metadata": {},
   "outputs": [],
   "source": []
  }
 ],
 "metadata": {
  "kernelspec": {
   "display_name": "Python 3 (ipykernel)",
   "language": "python",
   "name": "python3"
  },
  "language_info": {
   "codemirror_mode": {
    "name": "ipython",
    "version": 3
   },
   "file_extension": ".py",
   "mimetype": "text/x-python",
   "name": "python",
   "nbconvert_exporter": "python",
   "pygments_lexer": "ipython3",
   "version": "3.10.6"
  }
 },
 "nbformat": 4,
 "nbformat_minor": 5
}

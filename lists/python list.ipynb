{
 "cells": [
  {
   "cell_type": "code",
   "execution_count": 1,
   "id": "2937ab58",
   "metadata": {},
   "outputs": [
    {
     "name": "stdout",
     "output_type": "stream",
     "text": [
      "[5, 6, 8, 3.9, 'hello']\n"
     ]
    }
   ],
   "source": [
    "# create a list\n",
    "li = [5,6,8,3.9,'hello']\n",
    "print(li)"
   ]
  },
  {
   "cell_type": "code",
   "execution_count": 2,
   "id": "87434c5e",
   "metadata": {},
   "outputs": [
    {
     "name": "stdout",
     "output_type": "stream",
     "text": [
      "<class 'list'>\n"
     ]
    }
   ],
   "source": [
    "print(type(li))"
   ]
  },
  {
   "cell_type": "code",
   "execution_count": 3,
   "id": "1098f136",
   "metadata": {},
   "outputs": [
    {
     "name": "stdout",
     "output_type": "stream",
     "text": [
      "5\n"
     ]
    }
   ],
   "source": [
    "print(len(li))"
   ]
  },
  {
   "cell_type": "code",
   "execution_count": 10,
   "id": "381581c2",
   "metadata": {},
   "outputs": [
    {
     "name": "stdout",
     "output_type": "stream",
     "text": [
      "[4, 8, 'hello', 3.5, True, 4]\n"
     ]
    }
   ],
   "source": [
    "newli = list((4,8,'hello',3.5,True,4))\n",
    "print(newli)"
   ]
  },
  {
   "cell_type": "code",
   "execution_count": 11,
   "id": "f36c63cf",
   "metadata": {},
   "outputs": [
    {
     "name": "stdout",
     "output_type": "stream",
     "text": [
      "hello\n"
     ]
    }
   ],
   "source": [
    "#access list items\n",
    "li = [5,6,8,3.9,'hello']\n",
    "print(li[4])"
   ]
  },
  {
   "cell_type": "code",
   "execution_count": 12,
   "id": "91a75db2",
   "metadata": {},
   "outputs": [
    {
     "name": "stdout",
     "output_type": "stream",
     "text": [
      "[6, 8, 3.9, 'hello']\n"
     ]
    }
   ],
   "source": [
    "print(li[1:])"
   ]
  },
  {
   "cell_type": "code",
   "execution_count": 17,
   "id": "27723fc5",
   "metadata": {},
   "outputs": [
    {
     "name": "stdout",
     "output_type": "stream",
     "text": [
      "[8, 3.9]\n"
     ]
    }
   ],
   "source": [
    "print(li[2:4])"
   ]
  },
  {
   "cell_type": "code",
   "execution_count": 21,
   "id": "928fe910",
   "metadata": {},
   "outputs": [
    {
     "name": "stdout",
     "output_type": "stream",
     "text": [
      "[6, 8, 3.9]\n"
     ]
    }
   ],
   "source": [
    "print(li[-4:-1])"
   ]
  },
  {
   "cell_type": "code",
   "execution_count": 23,
   "id": "4b8e13ba",
   "metadata": {},
   "outputs": [
    {
     "name": "stdout",
     "output_type": "stream",
     "text": [
      "Yes\n"
     ]
    }
   ],
   "source": [
    "li = [5,6,8,3.9,'hello']\n",
    "if 5 in li:\n",
    "    print(\"Yes\")\n",
    "else:\n",
    "    print(\"No\")"
   ]
  },
  {
   "cell_type": "code",
   "execution_count": 24,
   "id": "edc04a9d",
   "metadata": {},
   "outputs": [
    {
     "name": "stdout",
     "output_type": "stream",
     "text": [
      "[5, 10, 8, 3.9, 'hello']\n"
     ]
    }
   ],
   "source": [
    "# change value in the list\n",
    "li = [5,6,8,3.9,'hello']\n",
    "li[1] = 10\n",
    "print(li)"
   ]
  },
  {
   "cell_type": "code",
   "execution_count": 25,
   "id": "424c6c2c",
   "metadata": {},
   "outputs": [
    {
     "name": "stdout",
     "output_type": "stream",
     "text": [
      "[5, 10, 12, 13, 'hello']\n"
     ]
    }
   ],
   "source": [
    "li = [5,6,8,3.9,'hello']\n",
    "li[1:4] = 10,12,13\n",
    "print(li)"
   ]
  },
  {
   "cell_type": "code",
   "execution_count": 26,
   "id": "8ad7275e",
   "metadata": {},
   "outputs": [
    {
     "name": "stdout",
     "output_type": "stream",
     "text": [
      "[10, 4, 5, 9, 'worldd']\n"
     ]
    }
   ],
   "source": [
    "li = [5,6,8,3.9,'hello']\n",
    "li[0:] = 10,4,5,9,\"worldd\"\n",
    "print(li)"
   ]
  },
  {
   "cell_type": "code",
   "execution_count": 28,
   "id": "45500816",
   "metadata": {},
   "outputs": [
    {
     "name": "stdout",
     "output_type": "stream",
     "text": [
      "['a', 'n', 'w', 'a', 'r', 3.9, 'hello']\n"
     ]
    }
   ],
   "source": [
    "li = [5,6,8,3.9,'hello']\n",
    "li[0:3] = \"anwar\" \n",
    "print(li)"
   ]
  },
  {
   "cell_type": "code",
   "execution_count": 32,
   "id": "ff58de25",
   "metadata": {},
   "outputs": [
    {
     "name": "stdout",
     "output_type": "stream",
     "text": [
      "[5, 6, 8, 'Anwar', 3.9, 'hello']\n"
     ]
    }
   ],
   "source": [
    "# insert value in list\n",
    "li = [5,6,8,3.9,'hello']\n",
    "li.insert(3, \"Anwar\")\n",
    "print(li)"
   ]
  },
  {
   "cell_type": "code",
   "execution_count": 33,
   "id": "00c8d0b1",
   "metadata": {},
   "outputs": [
    {
     "name": "stdout",
     "output_type": "stream",
     "text": [
      "[5, 6, 8, 3.9, 'hello', 99]\n"
     ]
    }
   ],
   "source": [
    "li = [5,6,8,3.9,'hello']\n",
    "li.append(99)\n",
    "print(li)"
   ]
  },
  {
   "cell_type": "code",
   "execution_count": 37,
   "id": "0ce2d3b1",
   "metadata": {},
   "outputs": [
    {
     "name": "stdout",
     "output_type": "stream",
     "text": [
      "['a', 'b', 'c']\n"
     ]
    }
   ],
   "source": [
    "# extend\n",
    "a = [2,4,5,6]\n",
    "b = ['a','b','c']\n",
    "a.extend(a)\n",
    "print(a)"
   ]
  },
  {
   "cell_type": "code",
   "execution_count": 39,
   "id": "4b4f6a1b",
   "metadata": {},
   "outputs": [
    {
     "name": "stdout",
     "output_type": "stream",
     "text": [
      "[5, 6, 8, 3.9]\n"
     ]
    }
   ],
   "source": [
    "# remove, pop, delete item\n",
    "li = [5,6,8,3.9,'hello']\n",
    "li.remove('hello')\n",
    "print(li)"
   ]
  },
  {
   "cell_type": "code",
   "execution_count": 43,
   "id": "2ff0701b",
   "metadata": {},
   "outputs": [
    {
     "name": "stdout",
     "output_type": "stream",
     "text": [
      "[5, 6, 8, 3.9]\n"
     ]
    }
   ],
   "source": [
    "#pop\n",
    "li = [5,6,8,3.9,'hello']\n",
    "li.pop(4)\n",
    "print(li)"
   ]
  },
  {
   "cell_type": "code",
   "execution_count": 45,
   "id": "1071f5fd",
   "metadata": {},
   "outputs": [
    {
     "name": "stdout",
     "output_type": "stream",
     "text": [
      "[5, 6, 3.9, 'hello']\n"
     ]
    }
   ],
   "source": [
    "#del\n",
    "li = [5,6,8,3.9,'hello']\n",
    "del li[2]\n",
    "print(li)"
   ]
  },
  {
   "cell_type": "code",
   "execution_count": 46,
   "id": "83c2cf8a",
   "metadata": {},
   "outputs": [
    {
     "name": "stdout",
     "output_type": "stream",
     "text": [
      "[]\n"
     ]
    }
   ],
   "source": [
    "#clear\n",
    "li = [5,6,8,3.9,'hello']\n",
    "li.clear()\n",
    "print(li)"
   ]
  },
  {
   "cell_type": "code",
   "execution_count": null,
   "id": "defa02ef",
   "metadata": {},
   "outputs": [],
   "source": []
  }
 ],
 "metadata": {
  "kernelspec": {
   "display_name": "Python 3 (ipykernel)",
   "language": "python",
   "name": "python3"
  },
  "language_info": {
   "codemirror_mode": {
    "name": "ipython",
    "version": 3
   },
   "file_extension": ".py",
   "mimetype": "text/x-python",
   "name": "python",
   "nbconvert_exporter": "python",
   "pygments_lexer": "ipython3",
   "version": "3.10.6"
  }
 },
 "nbformat": 4,
 "nbformat_minor": 5
}

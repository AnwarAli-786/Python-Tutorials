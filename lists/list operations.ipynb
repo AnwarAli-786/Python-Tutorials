{
 "cells": [
  {
   "cell_type": "code",
   "execution_count": 1,
   "id": "daf75160",
   "metadata": {},
   "outputs": [
    {
     "name": "stdout",
     "output_type": "stream",
     "text": [
      "[8, 5, 7.5, 'hello', 7, 5]\n"
     ]
    }
   ],
   "source": [
    "#create list\n",
    "a = [8,5,7.5,\"hello\",7,5]\n",
    "print(a)"
   ]
  },
  {
   "cell_type": "code",
   "execution_count": 2,
   "id": "24c59142",
   "metadata": {},
   "outputs": [
    {
     "name": "stdout",
     "output_type": "stream",
     "text": [
      "[8, 5, 89.6, 'hello', 7, 5]\n"
     ]
    }
   ],
   "source": [
    "#change list item\n",
    "a = [8,5,7.5,\"hello\",7,5]\n",
    "a[2] = 89.6\n",
    "print(a)"
   ]
  },
  {
   "cell_type": "code",
   "execution_count": 3,
   "id": "b50a3b92",
   "metadata": {},
   "outputs": [
    {
     "name": "stdout",
     "output_type": "stream",
     "text": [
      "[8, 5, 4, 99, 77, 7, 5]\n"
     ]
    }
   ],
   "source": [
    "a = [8,5,7.5,\"hello\",7,5]\n",
    "a[2:4] = 4,99,77\n",
    "print(a)"
   ]
  },
  {
   "cell_type": "code",
   "execution_count": 4,
   "id": "255d1a3c",
   "metadata": {},
   "outputs": [
    {
     "name": "stdout",
     "output_type": "stream",
     "text": [
      "[8, 5, 7.5, 'world', 7, 5]\n"
     ]
    }
   ],
   "source": [
    "a = [8,5,7.5,\"hello\",7,5]\n",
    "a[-3] = \"world\"\n",
    "print(a)"
   ]
  },
  {
   "cell_type": "code",
   "execution_count": 5,
   "id": "6f7c2542",
   "metadata": {},
   "outputs": [
    {
     "name": "stdout",
     "output_type": "stream",
     "text": [
      "[8, 5, 7.5, 'hello', 'Anwar', 7, 5]\n"
     ]
    }
   ],
   "source": [
    "#add item in list\n",
    "a = [8,5,7.5,\"hello\",7,5]\n",
    "a.insert(4, \"Anwar\")\n",
    "print(a)"
   ]
  },
  {
   "cell_type": "code",
   "execution_count": 6,
   "id": "b03bf68b",
   "metadata": {},
   "outputs": [
    {
     "name": "stdout",
     "output_type": "stream",
     "text": [
      "[8, 5, 7.5, 'hello', 7, 5, 'Banana']\n"
     ]
    }
   ],
   "source": [
    "a = [8,5,7.5,\"hello\",7,5]\n",
    "a.append(\"Banana\")\n",
    "print(a)"
   ]
  },
  {
   "cell_type": "code",
   "execution_count": 8,
   "id": "7fa3dca0",
   "metadata": {},
   "outputs": [
    {
     "name": "stdout",
     "output_type": "stream",
     "text": [
      "[3, 7, 3, 6, 8, 5, 7.5, 'hello', 7, 5]\n"
     ]
    }
   ],
   "source": [
    "a = [8,5,7.5,\"hello\",7,5]\n",
    "b = [3,7,3,6]\n",
    "b.extend(a)\n",
    "print(b)"
   ]
  },
  {
   "cell_type": "code",
   "execution_count": 9,
   "id": "e1c19adb",
   "metadata": {},
   "outputs": [
    {
     "name": "stdout",
     "output_type": "stream",
     "text": [
      "[8, 5, 5, 'hello', 7, 5]\n"
     ]
    }
   ],
   "source": [
    "#remove item from list\n",
    "a = [8,5,7,5,\"hello\",7,5]\n",
    "a.remove(7)\n",
    "print(a)"
   ]
  },
  {
   "cell_type": "code",
   "execution_count": 10,
   "id": "2566aaa0",
   "metadata": {},
   "outputs": [
    {
     "name": "stdout",
     "output_type": "stream",
     "text": [
      "[8, 5, 'hello', 7, 5]\n"
     ]
    }
   ],
   "source": [
    "a = [8,5,7.5,\"hello\",7,5]\n",
    "a.pop(2)\n",
    "print(a)"
   ]
  },
  {
   "cell_type": "code",
   "execution_count": 11,
   "id": "98fd3e0d",
   "metadata": {},
   "outputs": [
    {
     "name": "stdout",
     "output_type": "stream",
     "text": [
      "[8, 5, 7.5, 7, 5]\n"
     ]
    }
   ],
   "source": [
    "a = [8,5,7.5,\"hello\",7,5]\n",
    "del a[3]\n",
    "print(a)"
   ]
  },
  {
   "cell_type": "code",
   "execution_count": 12,
   "id": "c7e787ca",
   "metadata": {},
   "outputs": [
    {
     "name": "stdout",
     "output_type": "stream",
     "text": [
      "[]\n"
     ]
    }
   ],
   "source": [
    "a = [8,5,7.5,\"hello\",7,5]\n",
    "a.clear()\n",
    "print(a)"
   ]
  },
  {
   "cell_type": "code",
   "execution_count": null,
   "id": "c9e33155",
   "metadata": {},
   "outputs": [],
   "source": []
  }
 ],
 "metadata": {
  "kernelspec": {
   "display_name": "Python 3 (ipykernel)",
   "language": "python",
   "name": "python3"
  },
  "language_info": {
   "codemirror_mode": {
    "name": "ipython",
    "version": 3
   },
   "file_extension": ".py",
   "mimetype": "text/x-python",
   "name": "python",
   "nbconvert_exporter": "python",
   "pygments_lexer": "ipython3",
   "version": "3.10.6"
  }
 },
 "nbformat": 4,
 "nbformat_minor": 5
}
